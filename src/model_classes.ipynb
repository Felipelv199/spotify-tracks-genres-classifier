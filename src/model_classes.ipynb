{
 "cells": [
  {
   "cell_type": "code",
   "execution_count": 22,
   "metadata": {},
   "outputs": [
    {
     "data": {
      "text/plain": [
       "{'Acoustic Folk Genre': [0],\n",
       " 'Alt Music Genre': [1],\n",
       " 'Blues Genre': [2],\n",
       " 'Bollywood Music Genre': [3],\n",
       " 'Country Music Genre': [4],\n",
       " 'HipHop Music Genre': [5],\n",
       " 'Indie Music Genre': [6],\n",
       " 'Instrumental Music Genre': [7],\n",
       " 'Metal Music Genre': [8],\n",
       " 'Pop Music Genre': [9]}"
      ]
     },
     "execution_count": 22,
     "metadata": {},
     "output_type": "execute_result"
    }
   ],
   "source": [
    "import numpy as np\n",
    "import pandas as pd\n",
    "\n",
    "classes_names = [\"Acoustic Folk Genre\", \"Alt Music Genre\", \"Blues Genre\", \"Bollywood Music Genre\", \"Country Music Genre\", \"HipHop Music Genre\", \"Indie Music Genre\", \"Instrumental Music Genre\", \"Metal Music Genre\", \"Pop Music Genre\"]\n",
    "\n",
    "classes_dict = {}\n",
    "\n",
    "for i in range(len(classes_names)):\n",
    "    class_name = classes_names[i]\n",
    "    classes_dict[class_name] = [i]\n",
    "\n",
    "classes_dict"
   ]
  },
  {
   "cell_type": "code",
   "execution_count": 23,
   "metadata": {},
   "outputs": [
    {
     "data": {
      "text/html": [
       "<div>\n",
       "<style scoped>\n",
       "    .dataframe tbody tr th:only-of-type {\n",
       "        vertical-align: middle;\n",
       "    }\n",
       "\n",
       "    .dataframe tbody tr th {\n",
       "        vertical-align: top;\n",
       "    }\n",
       "\n",
       "    .dataframe thead th {\n",
       "        text-align: right;\n",
       "    }\n",
       "</style>\n",
       "<table border=\"1\" class=\"dataframe\">\n",
       "  <thead>\n",
       "    <tr style=\"text-align: right;\">\n",
       "      <th></th>\n",
       "      <th>Acoustic Folk Genre</th>\n",
       "      <th>Alt Music Genre</th>\n",
       "      <th>Blues Genre</th>\n",
       "      <th>Bollywood Music Genre</th>\n",
       "      <th>Country Music Genre</th>\n",
       "      <th>HipHop Music Genre</th>\n",
       "      <th>Indie Music Genre</th>\n",
       "      <th>Instrumental Music Genre</th>\n",
       "      <th>Metal Music Genre</th>\n",
       "      <th>Pop Music Genre</th>\n",
       "    </tr>\n",
       "  </thead>\n",
       "  <tbody>\n",
       "    <tr>\n",
       "      <th>0</th>\n",
       "      <td>0</td>\n",
       "      <td>1</td>\n",
       "      <td>2</td>\n",
       "      <td>3</td>\n",
       "      <td>4</td>\n",
       "      <td>5</td>\n",
       "      <td>6</td>\n",
       "      <td>7</td>\n",
       "      <td>8</td>\n",
       "      <td>9</td>\n",
       "    </tr>\n",
       "  </tbody>\n",
       "</table>\n",
       "</div>"
      ],
      "text/plain": [
       "   Acoustic Folk Genre  Alt Music Genre  Blues Genre  Bollywood Music Genre  \\\n",
       "0                    0                1            2                      3   \n",
       "\n",
       "   Country Music Genre  HipHop Music Genre  Indie Music Genre  \\\n",
       "0                    4                   5                  6   \n",
       "\n",
       "   Instrumental Music Genre  Metal Music Genre  Pop Music Genre  \n",
       "0                         7                  8                9  "
      ]
     },
     "execution_count": 23,
     "metadata": {},
     "output_type": "execute_result"
    }
   ],
   "source": [
    "classes_df = pd.DataFrame(classes_dict)\n",
    "classes_df"
   ]
  },
  {
   "cell_type": "code",
   "execution_count": 24,
   "metadata": {},
   "outputs": [],
   "source": [
    "from utils.pandas_utils import PandasUtils as pu\n",
    "\n",
    "pu.save_df_as_csv(classes_df, \"../data/model_classes.csv\")"
   ]
  }
 ],
 "metadata": {
  "interpreter": {
   "hash": "2db524e06e9f5f4ffedc911c917cb75e12dbc923643829bf417064a77eb14d37"
  },
  "kernelspec": {
   "display_name": "Python 3.8.3 64-bit",
   "language": "python",
   "name": "python3"
  },
  "language_info": {
   "codemirror_mode": {
    "name": "ipython",
    "version": 3
   },
   "file_extension": ".py",
   "mimetype": "text/x-python",
   "name": "python",
   "nbconvert_exporter": "python",
   "pygments_lexer": "ipython3",
   "version": "3.8.3"
  },
  "orig_nbformat": 4
 },
 "nbformat": 4,
 "nbformat_minor": 2
}
