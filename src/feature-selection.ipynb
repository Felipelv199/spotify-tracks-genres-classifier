{
 "cells": [
  {
   "cell_type": "code",
   "execution_count": 115,
   "metadata": {},
   "outputs": [
    {
     "data": {
      "text/html": [
       "<div>\n",
       "<style scoped>\n",
       "    .dataframe tbody tr th:only-of-type {\n",
       "        vertical-align: middle;\n",
       "    }\n",
       "\n",
       "    .dataframe tbody tr th {\n",
       "        vertical-align: top;\n",
       "    }\n",
       "\n",
       "    .dataframe thead th {\n",
       "        text-align: right;\n",
       "    }\n",
       "</style>\n",
       "<table border=\"1\" class=\"dataframe\">\n",
       "  <thead>\n",
       "    <tr style=\"text-align: right;\">\n",
       "      <th></th>\n",
       "      <th>acousticness</th>\n",
       "      <th>danceability</th>\n",
       "      <th>duration_ms</th>\n",
       "      <th>energy</th>\n",
       "      <th>instrumentalness</th>\n",
       "      <th>key</th>\n",
       "      <th>liveness</th>\n",
       "      <th>loudness</th>\n",
       "      <th>mode</th>\n",
       "      <th>speechiness</th>\n",
       "      <th>tempo</th>\n",
       "      <th>time_signature</th>\n",
       "      <th>valence</th>\n",
       "      <th>class</th>\n",
       "    </tr>\n",
       "  </thead>\n",
       "  <tbody>\n",
       "    <tr>\n",
       "      <th>0</th>\n",
       "      <td>0.000429</td>\n",
       "      <td>0.412</td>\n",
       "      <td>375627</td>\n",
       "      <td>0.655</td>\n",
       "      <td>0.048700</td>\n",
       "      <td>2</td>\n",
       "      <td>0.2900</td>\n",
       "      <td>-8.931</td>\n",
       "      <td>1</td>\n",
       "      <td>0.0538</td>\n",
       "      <td>88.573</td>\n",
       "      <td>4</td>\n",
       "      <td>0.102</td>\n",
       "      <td>6.0</td>\n",
       "    </tr>\n",
       "    <tr>\n",
       "      <th>1</th>\n",
       "      <td>0.995000</td>\n",
       "      <td>0.628</td>\n",
       "      <td>178525</td>\n",
       "      <td>0.156</td>\n",
       "      <td>0.234000</td>\n",
       "      <td>2</td>\n",
       "      <td>0.1090</td>\n",
       "      <td>-15.720</td>\n",
       "      <td>1</td>\n",
       "      <td>0.0960</td>\n",
       "      <td>135.022</td>\n",
       "      <td>1</td>\n",
       "      <td>0.366</td>\n",
       "      <td>2.0</td>\n",
       "    </tr>\n",
       "    <tr>\n",
       "      <th>2</th>\n",
       "      <td>0.296000</td>\n",
       "      <td>0.536</td>\n",
       "      <td>197232</td>\n",
       "      <td>0.552</td>\n",
       "      <td>0.000052</td>\n",
       "      <td>0</td>\n",
       "      <td>0.1040</td>\n",
       "      <td>-8.267</td>\n",
       "      <td>1</td>\n",
       "      <td>0.0365</td>\n",
       "      <td>112.016</td>\n",
       "      <td>4</td>\n",
       "      <td>0.182</td>\n",
       "      <td>9.0</td>\n",
       "    </tr>\n",
       "    <tr>\n",
       "      <th>3</th>\n",
       "      <td>0.000307</td>\n",
       "      <td>0.414</td>\n",
       "      <td>263077</td>\n",
       "      <td>0.852</td>\n",
       "      <td>0.002440</td>\n",
       "      <td>3</td>\n",
       "      <td>0.0953</td>\n",
       "      <td>-8.666</td>\n",
       "      <td>1</td>\n",
       "      <td>0.0817</td>\n",
       "      <td>129.963</td>\n",
       "      <td>3</td>\n",
       "      <td>0.118</td>\n",
       "      <td>8.0</td>\n",
       "    </tr>\n",
       "    <tr>\n",
       "      <th>4</th>\n",
       "      <td>0.766000</td>\n",
       "      <td>0.597</td>\n",
       "      <td>203613</td>\n",
       "      <td>0.271</td>\n",
       "      <td>0.011900</td>\n",
       "      <td>5</td>\n",
       "      <td>0.0933</td>\n",
       "      <td>-17.293</td>\n",
       "      <td>1</td>\n",
       "      <td>0.0394</td>\n",
       "      <td>76.271</td>\n",
       "      <td>4</td>\n",
       "      <td>0.338</td>\n",
       "      <td>0.0</td>\n",
       "    </tr>\n",
       "  </tbody>\n",
       "</table>\n",
       "</div>"
      ],
      "text/plain": [
       "   acousticness  danceability  duration_ms  energy  instrumentalness  key  \\\n",
       "0      0.000429         0.412       375627   0.655          0.048700    2   \n",
       "1      0.995000         0.628       178525   0.156          0.234000    2   \n",
       "2      0.296000         0.536       197232   0.552          0.000052    0   \n",
       "3      0.000307         0.414       263077   0.852          0.002440    3   \n",
       "4      0.766000         0.597       203613   0.271          0.011900    5   \n",
       "\n",
       "   liveness  loudness  mode  speechiness    tempo  time_signature  valence  \\\n",
       "0    0.2900    -8.931     1       0.0538   88.573               4    0.102   \n",
       "1    0.1090   -15.720     1       0.0960  135.022               1    0.366   \n",
       "2    0.1040    -8.267     1       0.0365  112.016               4    0.182   \n",
       "3    0.0953    -8.666     1       0.0817  129.963               3    0.118   \n",
       "4    0.0933   -17.293     1       0.0394   76.271               4    0.338   \n",
       "\n",
       "   class  \n",
       "0    6.0  \n",
       "1    2.0  \n",
       "2    9.0  \n",
       "3    8.0  \n",
       "4    0.0  "
      ]
     },
     "execution_count": 115,
     "metadata": {},
     "output_type": "execute_result"
    }
   ],
   "source": [
    "import pandas as pd\n",
    "\n",
    "df = pd.read_csv(\"../data/spotify-tracks-audio-features.csv\")\n",
    "df.head()"
   ]
  },
  {
   "cell_type": "code",
   "execution_count": 116,
   "metadata": {},
   "outputs": [],
   "source": [
    "columns = df.columns\n",
    "dataset = df.values\n",
    "m, n = dataset.shape\n",
    "lcol_i = n-1\n",
    "x, y = dataset[:,:lcol_i],  dataset[:, lcol_i]"
   ]
  },
  {
   "cell_type": "code",
   "execution_count": 117,
   "metadata": {},
   "outputs": [
    {
     "name": "stdout",
     "output_type": "stream",
     "text": [
      "Column 'acousticness' with coef: -0.191\n",
      "Column 'energy' with coef: 0.178\n",
      "Column 'loudness' with coef: 0.160\n"
     ]
    }
   ],
   "source": [
    "import numpy as np\n",
    "\n",
    "for i in range(lcol_i):\n",
    "    xi = x[:, i]\n",
    "    rho = np.corrcoef(xi, y)\n",
    "    rho_val = rho[0, 1]\n",
    "    if abs(rho_val) > .15:\n",
    "        print(f\"Column '{columns[i]}' with coef: {rho_val:.3f}\")"
   ]
  },
  {
   "cell_type": "code",
   "execution_count": 118,
   "metadata": {},
   "outputs": [
    {
     "name": "stdout",
     "output_type": "stream",
     "text": [
      "Column 'acousticness' with coef: -0.220\n",
      "Column 'energy' with coef: 0.191\n",
      "Column 'loudness' with coef: 0.180\n"
     ]
    }
   ],
   "source": [
    "from scipy.stats import spearmanr\n",
    "\n",
    "selected_columns = []\n",
    "\n",
    "for i in range(lcol_i):\n",
    "    xi = x[:, i]\n",
    "    coef, p = spearmanr(xi, y)\n",
    "    alpha = 0.05\n",
    "    if p <= alpha and abs(coef) > .15:\n",
    "        selected_columns.append(columns[i])\n",
    "        print(f\"Column '{columns[i]}' with coef: {coef:.3f}\")"
   ]
  },
  {
   "cell_type": "code",
   "execution_count": 119,
   "metadata": {},
   "outputs": [
    {
     "name": "stdout",
     "output_type": "stream",
     "text": [
      "[4.29e-04 9.95e-01 2.96e-01 ... 1.72e-01 9.11e-01 2.73e-06] [ 6.  2.  9. ...  5.  1. 10.]\n",
      "[0.655 0.156 0.552 ... 0.562 0.147 0.857] [ 6.  2.  9. ...  5.  1. 10.]\n",
      "[ -8.931 -15.72   -8.267 ...  -5.474 -19.74   -5.133] [ 6.  2.  9. ...  5.  1. 10.]\n"
     ]
    },
    {
     "data": {
      "image/png": "[encoded data removed]",
      "text/plain": [
       "<Figure size 432x288 with 3 Axes>"
      ]
     },
     "metadata": {
      "needs_background": "light"
     },
     "output_type": "display_data"
    }
   ],
   "source": [
    "import matplotlib.pyplot as plt\n",
    "from math import *\n",
    "\n",
    "cols = 3\n",
    "rows = ceil(len(selected_columns) / cols)\n",
    "\n",
    "fig, ax = plt.subplots(rows, cols)\n",
    "\n",
    "for i in range(cols):\n",
    "    column = selected_columns[i]\n",
    "    dataset = df[[column, \"class\"]].values\n",
    "    xi, yi = dataset[:, 0], dataset[:, 1]\n",
    "    axi: plt.Axes = ax[i]\n",
    "    axi.scatter(yi, xi)\n",
    "    axi.locator_params(nbins=11)\n",
    "    axi.set_xlabel(column)\n",
    "    axi.set_ylabel('class')\n",
    "    print(xi, yi)\n",
    "\n",
    "plt.tight_layout()"
   ]
  }
 ],
 "metadata": {
  "interpreter": {
   "hash": "9650cb4e16cdd4a8e8e2d128bf38d875813998db22a3c986335f89e0cb4d7bb2"
  },
  "kernelspec": {
   "display_name": "Python 3.8.3 64-bit",
   "language": "python",
   "name": "python3"
  },
  "language_info": {
   "codemirror_mode": {
    "name": "ipython",
    "version": 3
   },
   "file_extension": ".py",
   "mimetype": "text/x-python",
   "name": "python",
   "nbconvert_exporter": "python",
   "pygments_lexer": "ipython3",
   "version": "3.8.3"
  },
  "orig_nbformat": 4
 },
 "nbformat": 4,
 "nbformat_minor": 2
}
