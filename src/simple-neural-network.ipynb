{
 "cells": [
  {
   "cell_type": "code",
   "execution_count": 123,
   "metadata": {},
   "outputs": [
    {
     "name": "stdout",
     "output_type": "stream",
     "text": [
      "(18750, 13) (18750,) (18750, 14)\n"
     ]
    }
   ],
   "source": [
    "import pandas as pd\n",
    "\n",
    "df = pd.read_csv(\"../data/spotify-tracks-audio-features.csv\")\n",
    "# df = df[[\"acousticness\", \"energy\", \"loudness\"]]\n",
    "dataset = df.values\n",
    "m, n = dataset.shape\n",
    "x, y = dataset[:,:n-1], dataset[:,n-1]\n",
    "print(x.shape, y.shape, dataset.shape)"
   ]
  },
  {
   "cell_type": "code",
   "execution_count": 124,
   "metadata": {},
   "outputs": [
    {
     "name": "stdout",
     "output_type": "stream",
     "text": [
      "[[4.30722892e-04 3.78968895e-01 2.53616830e-01 ... 3.10480095e-01\n",
      "  7.50000000e-01 8.65832213e-02]\n",
      " [9.98995984e-01 6.11451943e-01 1.11728124e-01 ... 5.59057899e-01\n",
      "  0.00000000e+00 3.59677253e-01]\n",
      " [2.97188755e-01 5.12431385e-01 1.25194816e-01 ... 4.35938328e-01\n",
      "  7.50000000e-01 1.69338988e-01]\n",
      " ...\n",
      " [1.72690763e-01 7.33075019e-01 1.56649013e-01 ... 8.00127369e-01\n",
      "  7.50000000e-01 2.83128168e-01]\n",
      " [9.14658635e-01 2.06759229e-01 1.77596641e-01 ... 4.14579977e-01\n",
      "  7.50000000e-01 1.38615910e-02]\n",
      " [2.74096386e-06 3.85426757e-01 1.31631214e-01 ... 5.85805340e-01\n",
      "  7.50000000e-01 1.05203269e-01]]\n"
     ]
    }
   ],
   "source": [
    "import numpy as np\n",
    "\n",
    "column_mins = []\n",
    "column_maxs = []\n",
    "\n",
    "for i in range(n-1):\n",
    "    column_mins.append(min(x[:,i]))\n",
    "    column_maxs.append(max(x[:,i]))\n",
    "\n",
    "x_norm = np.zeros((m, n-1))\n",
    "\n",
    "for i in range(m):\n",
    "    for j in range(n-1):\n",
    "        xi = x[i, j]\n",
    "        x_norm[i, j] = (xi - column_mins[j]) / (column_maxs[j] - column_mins[j])\n",
    "\n",
    "x = x_norm.copy()\n",
    "print(x)"
   ]
  },
  {
   "cell_type": "code",
   "execution_count": 125,
   "metadata": {},
   "outputs": [
    {
     "data": {
      "text/plain": [
       "[0.0, 1.0, 2.0, 3.0, 4.0, 5.0, 6.0, 7.0, 8.0, 9.0, 10.0]"
      ]
     },
     "execution_count": 125,
     "metadata": {},
     "output_type": "execute_result"
    }
   ],
   "source": [
    "classes = []\n",
    "\n",
    "for yi in y:\n",
    "    if yi not in classes:\n",
    "        classes.append(yi)\n",
    "\n",
    "classes.sort()\n",
    "classes"
   ]
  },
  {
   "cell_type": "code",
   "execution_count": 126,
   "metadata": {},
   "outputs": [],
   "source": [
    "classes_len = len(classes)\n",
    "\n",
    "y_one_hot = np.zeros((m, classes_len))\n",
    "\n",
    "for i in range(m):\n",
    "    yi = int(y[i])\n",
    "    y_one_hot[i, yi] = 1\n",
    "\n",
    "y = y_one_hot\n"
   ]
  },
  {
   "cell_type": "code",
   "execution_count": 127,
   "metadata": {},
   "outputs": [],
   "source": [
    "train_percentage = 80\n",
    "\n",
    "train_size = int(m*(train_percentage/100))\n",
    "\n",
    "x_train, x_test = x[:train_size, :], x[train_size:, :]\n",
    "y_train, y_test = y[:train_size], y[train_size:]\n"
   ]
  },
  {
   "cell_type": "code",
   "execution_count": 128,
   "metadata": {},
   "outputs": [],
   "source": [
    "from sklearn.model_selection import train_test_split\n",
    "\n",
    "test_size = 1 - (train_percentage/100)\n",
    "\n",
    "x_train, x_test, y_train, y_test = train_test_split(x, y, test_size=test_size, random_state=42)\n"
   ]
  },
  {
   "cell_type": "code",
   "execution_count": 129,
   "metadata": {},
   "outputs": [],
   "source": [
    "from keras.models import Sequential\n",
    "from keras.layers import Dense\n",
    "\n",
    "model = Sequential()\n",
    "model.add(Dense(24, input_dim=n-1, activation='relu'))\n",
    "model.add(Dense(20, activation='sigmoid'))\n",
    "model.add(Dense(20, activation='relu'))\n",
    "model.add(Dense(len(classes), activation='sigmoid'))\n",
    "model.compile(loss='binary_crossentropy', optimizer='adam', metrics=['accuracy'])"
   ]
  },
  {
   "cell_type": "code",
   "execution_count": 130,
   "metadata": {},
   "outputs": [
    {
     "name": "stdout",
     "output_type": "stream",
     "text": [
      "Epoch 1/100\n",
      "469/469 [==============================] - 1s 1ms/step - loss: 0.3138 - accuracy: 0.2363\n",
      "Epoch 2/100\n",
      "469/469 [==============================] - 1s 1ms/step - loss: 0.2587 - accuracy: 0.3009\n",
      "Epoch 3/100\n",
      "469/469 [==============================] - 1s 1ms/step - loss: 0.2454 - accuracy: 0.3237\n",
      "Epoch 4/100\n",
      "469/469 [==============================] - 1s 1ms/step - loss: 0.2376 - accuracy: 0.3625\n",
      "Epoch 5/100\n",
      "469/469 [==============================] - 1s 1ms/step - loss: 0.2311 - accuracy: 0.3861\n",
      "Epoch 6/100\n",
      "469/469 [==============================] - 1s 1ms/step - loss: 0.2276 - accuracy: 0.3985\n",
      "Epoch 7/100\n",
      "469/469 [==============================] - 1s 1ms/step - loss: 0.2258 - accuracy: 0.4014\n",
      "Epoch 8/100\n",
      "469/469 [==============================] - 1s 1ms/step - loss: 0.2247 - accuracy: 0.4045\n",
      "Epoch 9/100\n",
      "469/469 [==============================] - 1s 1ms/step - loss: 0.2239 - accuracy: 0.4016: 0s - loss: 0.2243 - accuracy: 0.\n",
      "Epoch 10/100\n",
      "469/469 [==============================] - 1s 1ms/step - loss: 0.2234 - accuracy: 0.4052\n",
      "Epoch 11/100\n",
      "469/469 [==============================] - 1s 1ms/step - loss: 0.2228 - accuracy: 0.4059\n",
      "Epoch 12/100\n",
      "469/469 [==============================] - 1s 1ms/step - loss: 0.2225 - accuracy: 0.4054\n",
      "Epoch 13/100\n",
      "469/469 [==============================] - 1s 1ms/step - loss: 0.2221 - accuracy: 0.4075\n",
      "Epoch 14/100\n",
      "469/469 [==============================] - 1s 1ms/step - loss: 0.2218 - accuracy: 0.4078\n",
      "Epoch 15/100\n",
      "469/469 [==============================] - 1s 1ms/step - loss: 0.2214 - accuracy: 0.4095\n",
      "Epoch 16/100\n",
      "469/469 [==============================] - 1s 1ms/step - loss: 0.2211 - accuracy: 0.4092\n",
      "Epoch 17/100\n",
      "469/469 [==============================] - 1s 1ms/step - loss: 0.2208 - accuracy: 0.4100\n",
      "Epoch 18/100\n",
      "469/469 [==============================] - 1s 1ms/step - loss: 0.2207 - accuracy: 0.4103\n",
      "Epoch 19/100\n",
      "469/469 [==============================] - 1s 1ms/step - loss: 0.2203 - accuracy: 0.4132\n",
      "Epoch 20/100\n",
      "469/469 [==============================] - 1s 1ms/step - loss: 0.2201 - accuracy: 0.4127\n",
      "Epoch 21/100\n",
      "469/469 [==============================] - 1s 1ms/step - loss: 0.2198 - accuracy: 0.4091\n",
      "Epoch 22/100\n",
      "469/469 [==============================] - 1s 1ms/step - loss: 0.2197 - accuracy: 0.4098\n",
      "Epoch 23/100\n",
      "469/469 [==============================] - 1s 1ms/step - loss: 0.2195 - accuracy: 0.4144\n",
      "Epoch 24/100\n",
      "469/469 [==============================] - 1s 1ms/step - loss: 0.2191 - accuracy: 0.4159\n",
      "Epoch 25/100\n",
      "469/469 [==============================] - 1s 1ms/step - loss: 0.2188 - accuracy: 0.4148\n",
      "Epoch 26/100\n",
      "469/469 [==============================] - 1s 1ms/step - loss: 0.2187 - accuracy: 0.4129\n",
      "Epoch 27/100\n",
      "469/469 [==============================] - 1s 1ms/step - loss: 0.2184 - accuracy: 0.4135\n",
      "Epoch 28/100\n",
      "469/469 [==============================] - 1s 1ms/step - loss: 0.2183 - accuracy: 0.4132\n",
      "Epoch 29/100\n",
      "469/469 [==============================] - 1s 1ms/step - loss: 0.2181 - accuracy: 0.4146\n",
      "Epoch 30/100\n",
      "469/469 [==============================] - 1s 1ms/step - loss: 0.2177 - accuracy: 0.4171\n",
      "Epoch 31/100\n",
      "469/469 [==============================] - 1s 1ms/step - loss: 0.2178 - accuracy: 0.4135\n",
      "Epoch 32/100\n",
      "469/469 [==============================] - 1s 1ms/step - loss: 0.2175 - accuracy: 0.4163: 0s - loss: 0.2\n",
      "Epoch 33/100\n",
      "469/469 [==============================] - 1s 1ms/step - loss: 0.2173 - accuracy: 0.4167\n",
      "Epoch 34/100\n",
      "469/469 [==============================] - 1s 1ms/step - loss: 0.2171 - accuracy: 0.4175\n",
      "Epoch 35/100\n",
      "469/469 [==============================] - 1s 1ms/step - loss: 0.2170 - accuracy: 0.4181\n",
      "Epoch 36/100\n",
      "469/469 [==============================] - 1s 1ms/step - loss: 0.2168 - accuracy: 0.4171\n",
      "Epoch 37/100\n",
      "469/469 [==============================] - 1s 1ms/step - loss: 0.2166 - accuracy: 0.4191\n",
      "Epoch 38/100\n",
      "469/469 [==============================] - 1s 1ms/step - loss: 0.2166 - accuracy: 0.4181\n",
      "Epoch 39/100\n",
      "469/469 [==============================] - 1s 1ms/step - loss: 0.2164 - accuracy: 0.4187\n",
      "Epoch 40/100\n",
      "469/469 [==============================] - 1s 1ms/step - loss: 0.2162 - accuracy: 0.4184: 0s - loss: 0.2166 - \n",
      "Epoch 41/100\n",
      "469/469 [==============================] - 1s 1ms/step - loss: 0.2161 - accuracy: 0.4190\n",
      "Epoch 42/100\n",
      "469/469 [==============================] - 1s 1ms/step - loss: 0.2161 - accuracy: 0.4193\n",
      "Epoch 43/100\n",
      "469/469 [==============================] - 1s 1ms/step - loss: 0.2159 - accuracy: 0.4194\n",
      "Epoch 44/100\n",
      "469/469 [==============================] - 1s 1ms/step - loss: 0.2159 - accuracy: 0.4199\n",
      "Epoch 45/100\n",
      "469/469 [==============================] - 1s 1ms/step - loss: 0.2156 - accuracy: 0.4207\n",
      "Epoch 46/100\n",
      "469/469 [==============================] - 1s 1ms/step - loss: 0.2154 - accuracy: 0.4203\n",
      "Epoch 47/100\n",
      "469/469 [==============================] - 1s 1ms/step - loss: 0.2155 - accuracy: 0.4209\n",
      "Epoch 48/100\n",
      "469/469 [==============================] - 1s 1ms/step - loss: 0.2152 - accuracy: 0.4229\n",
      "Epoch 49/100\n",
      "469/469 [==============================] - 1s 1ms/step - loss: 0.2151 - accuracy: 0.4231\n",
      "Epoch 50/100\n",
      "469/469 [==============================] - ETA: 0s - loss: 0.2149 - accuracy: 0.42 - 1s 1ms/step - loss: 0.2151 - accuracy: 0.4234\n",
      "Epoch 51/100\n",
      "469/469 [==============================] - 1s 1ms/step - loss: 0.2150 - accuracy: 0.4213\n",
      "Epoch 52/100\n",
      "469/469 [==============================] - 1s 1ms/step - loss: 0.2148 - accuracy: 0.4218\n",
      "Epoch 53/100\n",
      "469/469 [==============================] - 1s 1ms/step - loss: 0.2146 - accuracy: 0.4243\n",
      "Epoch 54/100\n",
      "469/469 [==============================] - 1s 1ms/step - loss: 0.2146 - accuracy: 0.4263\n",
      "Epoch 55/100\n",
      "469/469 [==============================] - 1s 1ms/step - loss: 0.2144 - accuracy: 0.4263\n",
      "Epoch 56/100\n",
      "469/469 [==============================] - 1s 1ms/step - loss: 0.2141 - accuracy: 0.4243\n",
      "Epoch 57/100\n",
      "469/469 [==============================] - 1s 1ms/step - loss: 0.2143 - accuracy: 0.4231: 0s - loss: 0.2143 - accuracy: 0.42\n",
      "Epoch 58/100\n",
      "469/469 [==============================] - 1s 1ms/step - loss: 0.2141 - accuracy: 0.4263\n",
      "Epoch 59/100\n",
      "469/469 [==============================] - 1s 1ms/step - loss: 0.2139 - accuracy: 0.4241\n",
      "Epoch 60/100\n",
      "469/469 [==============================] - 1s 1ms/step - loss: 0.2140 - accuracy: 0.4253\n",
      "Epoch 61/100\n",
      "469/469 [==============================] - 1s 1ms/step - loss: 0.2138 - accuracy: 0.4243\n",
      "Epoch 62/100\n",
      "469/469 [==============================] - 1s 1ms/step - loss: 0.2137 - accuracy: 0.4265\n",
      "Epoch 63/100\n",
      "469/469 [==============================] - 1s 1ms/step - loss: 0.2136 - accuracy: 0.4243\n",
      "Epoch 64/100\n",
      "469/469 [==============================] - 1s 1ms/step - loss: 0.2135 - accuracy: 0.4274\n",
      "Epoch 65/100\n",
      "469/469 [==============================] - 1s 1ms/step - loss: 0.2135 - accuracy: 0.4272\n",
      "Epoch 66/100\n",
      "469/469 [==============================] - 1s 1ms/step - loss: 0.2133 - accuracy: 0.4277\n",
      "Epoch 67/100\n",
      "469/469 [==============================] - 1s 1ms/step - loss: 0.2134 - accuracy: 0.4273: 0s - loss: 0.2129 - accuracy: 0.\n",
      "Epoch 68/100\n",
      "469/469 [==============================] - 1s 1ms/step - loss: 0.2132 - accuracy: 0.4244\n",
      "Epoch 69/100\n",
      "469/469 [==============================] - 1s 1ms/step - loss: 0.2132 - accuracy: 0.4243\n",
      "Epoch 70/100\n",
      "469/469 [==============================] - 1s 1ms/step - loss: 0.2131 - accuracy: 0.4263\n",
      "Epoch 71/100\n",
      "469/469 [==============================] - 1s 1ms/step - loss: 0.2129 - accuracy: 0.4275\n",
      "Epoch 72/100\n",
      "469/469 [==============================] - 1s 1ms/step - loss: 0.2130 - accuracy: 0.4286\n",
      "Epoch 73/100\n",
      "469/469 [==============================] - 1s 1ms/step - loss: 0.2129 - accuracy: 0.4287\n",
      "Epoch 74/100\n",
      "469/469 [==============================] - 1s 1ms/step - loss: 0.2129 - accuracy: 0.4273: 0s - loss: 0.2129 - accuracy: 0.42\n",
      "Epoch 75/100\n",
      "469/469 [==============================] - 1s 1ms/step - loss: 0.2128 - accuracy: 0.4305\n",
      "Epoch 76/100\n",
      "469/469 [==============================] - 1s 1ms/step - loss: 0.2125 - accuracy: 0.4321\n",
      "Epoch 77/100\n",
      "469/469 [==============================] - 1s 1ms/step - loss: 0.2126 - accuracy: 0.4301\n",
      "Epoch 78/100\n",
      "469/469 [==============================] - 1s 1ms/step - loss: 0.2125 - accuracy: 0.4287\n",
      "Epoch 79/100\n",
      "469/469 [==============================] - 1s 1ms/step - loss: 0.2124 - accuracy: 0.4304\n",
      "Epoch 80/100\n",
      "469/469 [==============================] - 1s 1ms/step - loss: 0.2124 - accuracy: 0.4275\n",
      "Epoch 81/100\n",
      "469/469 [==============================] - 1s 1ms/step - loss: 0.2125 - accuracy: 0.4281\n",
      "Epoch 82/100\n",
      "469/469 [==============================] - 1s 1ms/step - loss: 0.2123 - accuracy: 0.4308\n",
      "Epoch 83/100\n",
      "469/469 [==============================] - 1s 1ms/step - loss: 0.2121 - accuracy: 0.4337\n",
      "Epoch 84/100\n",
      "469/469 [==============================] - 1s 1ms/step - loss: 0.2122 - accuracy: 0.4321: 0s - loss: 0.2126  - ETA: 0s - loss: 0.2128 - accuracy: 0.43\n",
      "Epoch 85/100\n",
      "469/469 [==============================] - 1s 1ms/step - loss: 0.2121 - accuracy: 0.4298\n",
      "Epoch 86/100\n",
      "469/469 [==============================] - 1s 1ms/step - loss: 0.2121 - accuracy: 0.4295\n",
      "Epoch 87/100\n",
      "469/469 [==============================] - 1s 1ms/step - loss: 0.2119 - accuracy: 0.4314\n",
      "Epoch 88/100\n",
      "469/469 [==============================] - 1s 1ms/step - loss: 0.2119 - accuracy: 0.4324\n",
      "Epoch 89/100\n",
      "469/469 [==============================] - 1s 1ms/step - loss: 0.2118 - accuracy: 0.4332\n",
      "Epoch 90/100\n",
      "469/469 [==============================] - 1s 1ms/step - loss: 0.2117 - accuracy: 0.4313\n",
      "Epoch 91/100\n",
      "469/469 [==============================] - 1s 1ms/step - loss: 0.2117 - accuracy: 0.4308\n",
      "Epoch 92/100\n",
      "469/469 [==============================] - 1s 1ms/step - loss: 0.2116 - accuracy: 0.4307\n",
      "Epoch 93/100\n",
      "469/469 [==============================] - 1s 1ms/step - loss: 0.2116 - accuracy: 0.4335\n",
      "Epoch 94/100\n",
      "469/469 [==============================] - 1s 1ms/step - loss: 0.2116 - accuracy: 0.4327\n",
      "Epoch 95/100\n",
      "469/469 [==============================] - 1s 1ms/step - loss: 0.2115 - accuracy: 0.4341\n",
      "Epoch 96/100\n",
      "469/469 [==============================] - 1s 1ms/step - loss: 0.2115 - accuracy: 0.4337\n",
      "Epoch 97/100\n",
      "469/469 [==============================] - 1s 1ms/step - loss: 0.2114 - accuracy: 0.4326\n",
      "Epoch 98/100\n",
      "469/469 [==============================] - 1s 1ms/step - loss: 0.2115 - accuracy: 0.4345\n",
      "Epoch 99/100\n",
      "469/469 [==============================] - 1s 1ms/step - loss: 0.2114 - accuracy: 0.4348\n",
      "Epoch 100/100\n",
      "469/469 [==============================] - 1s 1ms/step - loss: 0.2113 - accuracy: 0.4308\n"
     ]
    },
    {
     "data": {
      "text/plain": [
       "<keras.callbacks.History at 0x1c495475fd0>"
      ]
     },
     "execution_count": 130,
     "metadata": {},
     "output_type": "execute_result"
    }
   ],
   "source": [
    "model.fit(x_train, y_train, epochs=100)"
   ]
  },
  {
   "cell_type": "code",
   "execution_count": 131,
   "metadata": {},
   "outputs": [
    {
     "name": "stdout",
     "output_type": "stream",
     "text": [
      "118/118 [==============================] - 0s 779us/step - loss: 0.2147 - accuracy: 0.4259\n"
     ]
    },
    {
     "data": {
      "text/plain": [
       "[0.214652881026268, 0.42586666345596313]"
      ]
     },
     "execution_count": 131,
     "metadata": {},
     "output_type": "execute_result"
    }
   ],
   "source": [
    "model.evaluate(x_test, y_test)"
   ]
  }
 ],
 "metadata": {
  "interpreter": {
   "hash": "9650cb4e16cdd4a8e8e2d128bf38d875813998db22a3c986335f89e0cb4d7bb2"
  },
  "kernelspec": {
   "display_name": "Python 3.8.3 64-bit",
   "language": "python",
   "name": "python3"
  },
  "language_info": {
   "codemirror_mode": {
    "name": "ipython",
    "version": 3
   },
   "file_extension": ".py",
   "mimetype": "text/x-python",
   "name": "python",
   "nbconvert_exporter": "python",
   "pygments_lexer": "ipython3",
   "version": "3.8.3"
  },
  "orig_nbformat": 4
 },
 "nbformat": 4,
 "nbformat_minor": 2
}
