{
 "cells": [
  {
   "cell_type": "code",
   "execution_count": 19,
   "metadata": {},
   "outputs": [
    {
     "name": "stdout",
     "output_type": "stream",
     "text": [
      "(18750, 13) (18750,) (18750, 14)\n"
     ]
    }
   ],
   "source": [
    "import pandas as pd\n",
    "\n",
    "df = pd.read_csv(\"../data/spotify-tracks-audio-features.csv\")\n",
    "# df = df[[\"acousticness\", \"energy\", \"loudness\"]]\n",
    "dataset = df.values\n",
    "m, n = dataset.shape\n",
    "x, y = dataset[:,:n-1], dataset[:,n-1]\n",
    "print(x.shape, y.shape, dataset.shape)"
   ]
  },
  {
   "cell_type": "code",
   "execution_count": 20,
   "metadata": {},
   "outputs": [
    {
     "name": "stdout",
     "output_type": "stream",
     "text": [
      "[[4.30722892e-04 3.78968895e-01 2.53616830e-01 ... 3.10480095e-01\n",
      "  7.50000000e-01 8.65832213e-02]\n",
      " [9.98995984e-01 6.11451943e-01 1.11728124e-01 ... 5.59057899e-01\n",
      "  0.00000000e+00 3.59677253e-01]\n",
      " [2.97188755e-01 5.12431385e-01 1.25194816e-01 ... 4.35938328e-01\n",
      "  7.50000000e-01 1.69338988e-01]\n",
      " ...\n",
      " [1.72690763e-01 7.33075019e-01 1.56649013e-01 ... 8.00127369e-01\n",
      "  7.50000000e-01 2.83128168e-01]\n",
      " [9.14658635e-01 2.06759229e-01 1.77596641e-01 ... 4.14579977e-01\n",
      "  7.50000000e-01 1.38615910e-02]\n",
      " [2.74096386e-06 3.85426757e-01 1.31631214e-01 ... 5.85805340e-01\n",
      "  7.50000000e-01 1.05203269e-01]]\n"
     ]
    }
   ],
   "source": [
    "import numpy as np\n",
    "\n",
    "column_mins = []\n",
    "column_maxs = []\n",
    "\n",
    "for i in range(n-1):\n",
    "    column_mins.append(min(x[:,i]))\n",
    "    column_maxs.append(max(x[:,i]))\n",
    "\n",
    "x_norm = np.zeros((m, n-1))\n",
    "\n",
    "for i in range(m):\n",
    "    for j in range(n-1):\n",
    "        xi = x[i, j]\n",
    "        x_norm[i, j] = (xi - column_mins[j]) / (column_maxs[j] - column_mins[j])\n",
    "\n",
    "x = x_norm.copy()\n",
    "print(x)"
   ]
  },
  {
   "cell_type": "code",
   "execution_count": 21,
   "metadata": {},
   "outputs": [
    {
     "data": {
      "text/plain": [
       "[0.0, 1.0, 2.0, 3.0, 4.0, 5.0, 6.0, 7.0, 8.0, 9.0, 10.0]"
      ]
     },
     "execution_count": 21,
     "metadata": {},
     "output_type": "execute_result"
    }
   ],
   "source": [
    "classes = []\n",
    "\n",
    "for yi in y:\n",
    "    if yi not in classes:\n",
    "        classes.append(yi)\n",
    "\n",
    "classes.sort()\n",
    "classes"
   ]
  },
  {
   "cell_type": "code",
   "execution_count": 22,
   "metadata": {},
   "outputs": [],
   "source": [
    "classes_len = len(classes)\n",
    "\n",
    "y_one_hot = np.zeros((m, classes_len))\n",
    "\n",
    "for i in range(m):\n",
    "    yi = int(y[i])\n",
    "    y_one_hot[i, yi] = 1\n",
    "\n",
    "y = y_one_hot\n"
   ]
  },
  {
   "cell_type": "code",
   "execution_count": 23,
   "metadata": {},
   "outputs": [],
   "source": [
    "train_percentage = 80\n",
    "\n",
    "train_size = int(m*(train_percentage/100))\n",
    "\n",
    "x_train, x_test = x[:train_size, :], x[train_size:, :]\n",
    "y_train, y_test = y[:train_size], y[train_size:]\n"
   ]
  },
  {
   "cell_type": "code",
   "execution_count": 24,
   "metadata": {},
   "outputs": [],
   "source": [
    "from sklearn.model_selection import train_test_split\n",
    "\n",
    "test_size = 1 - (train_percentage/100)\n",
    "\n",
    "x_train, x_test, y_train, y_test = train_test_split(x, y, test_size=test_size, random_state=42)\n"
   ]
  },
  {
   "cell_type": "code",
   "execution_count": 25,
   "metadata": {},
   "outputs": [],
   "source": [
    "from keras.models import Sequential\n",
    "from keras.layers import Dense\n",
    "\n",
    "model = Sequential()\n",
    "model.add(Dense(13, input_dim=n-1, activation='sigmoid'))\n",
    "model.add(Dense(20, activation='sigmoid'))\n",
    "model.add(Dense(len(classes), activation='sigmoid'))\n",
    "model.compile(loss='binary_crossentropy', optimizer='adam', metrics=['accuracy'])"
   ]
  },
  {
   "cell_type": "code",
   "execution_count": 26,
   "metadata": {},
   "outputs": [
    {
     "name": "stdout",
     "output_type": "stream",
     "text": [
      "Epoch 1/100\n",
      "469/469 [==============================] - 1s 1ms/step - loss: 0.3584 - accuracy: 0.2452\n",
      "Epoch 2/100\n",
      "469/469 [==============================] - 0s 976us/step - loss: 0.2688 - accuracy: 0.2873\n",
      "Epoch 3/100\n",
      "469/469 [==============================] - 0s 883us/step - loss: 0.2677 - accuracy: 0.2873\n",
      "Epoch 4/100\n",
      "469/469 [==============================] - 0s 897us/step - loss: 0.2669 - accuracy: 0.2873\n",
      "Epoch 5/100\n",
      "469/469 [==============================] - 0s 908us/step - loss: 0.2649 - accuracy: 0.2875\n",
      "Epoch 6/100\n",
      "469/469 [==============================] - 0s 895us/step - loss: 0.2612 - accuracy: 0.2921\n",
      "Epoch 7/100\n",
      "469/469 [==============================] - 0s 871us/step - loss: 0.2561 - accuracy: 0.2961\n",
      "Epoch 8/100\n",
      "469/469 [==============================] - 0s 938us/step - loss: 0.2512 - accuracy: 0.3007\n",
      "Epoch 9/100\n",
      "469/469 [==============================] - 0s 964us/step - loss: 0.2477 - accuracy: 0.3085\n",
      "Epoch 10/100\n",
      "469/469 [==============================] - 0s 902us/step - loss: 0.2451 - accuracy: 0.3236\n",
      "Epoch 11/100\n",
      "469/469 [==============================] - 0s 902us/step - loss: 0.2426 - accuracy: 0.3394\n",
      "Epoch 12/100\n",
      "469/469 [==============================] - 0s 928us/step - loss: 0.2399 - accuracy: 0.3578\n",
      "Epoch 13/100\n",
      "469/469 [==============================] - 0s 910us/step - loss: 0.2370 - accuracy: 0.3673\n",
      "Epoch 14/100\n",
      "469/469 [==============================] - 0s 954us/step - loss: 0.2342 - accuracy: 0.3766\n",
      "Epoch 15/100\n",
      "469/469 [==============================] - 0s 849us/step - loss: 0.2318 - accuracy: 0.3868\n",
      "Epoch 16/100\n",
      "469/469 [==============================] - 0s 907us/step - loss: 0.2301 - accuracy: 0.3935\n",
      "Epoch 17/100\n",
      "469/469 [==============================] - 0s 953us/step - loss: 0.2289 - accuracy: 0.3943\n",
      "Epoch 18/100\n",
      "469/469 [==============================] - 0s 917us/step - loss: 0.2280 - accuracy: 0.3955\n",
      "Epoch 19/100\n",
      "469/469 [==============================] - 0s 899us/step - loss: 0.2274 - accuracy: 0.3974\n",
      "Epoch 20/100\n",
      "469/469 [==============================] - 0s 909us/step - loss: 0.2268 - accuracy: 0.4005\n",
      "Epoch 21/100\n",
      "469/469 [==============================] - 0s 904us/step - loss: 0.2264 - accuracy: 0.3989\n",
      "Epoch 22/100\n",
      "469/469 [==============================] - 0s 902us/step - loss: 0.2260 - accuracy: 0.4013\n",
      "Epoch 23/100\n",
      "469/469 [==============================] - 0s 921us/step - loss: 0.2257 - accuracy: 0.4003\n",
      "Epoch 24/100\n",
      "469/469 [==============================] - 0s 900us/step - loss: 0.2254 - accuracy: 0.4013\n",
      "Epoch 25/100\n",
      "469/469 [==============================] - 0s 962us/step - loss: 0.2252 - accuracy: 0.3995\n",
      "Epoch 26/100\n",
      "469/469 [==============================] - 0s 915us/step - loss: 0.2250 - accuracy: 0.4018\n",
      "Epoch 27/100\n",
      "469/469 [==============================] - 0s 940us/step - loss: 0.2247 - accuracy: 0.4009\n",
      "Epoch 28/100\n",
      "469/469 [==============================] - 0s 917us/step - loss: 0.2245 - accuracy: 0.4030\n",
      "Epoch 29/100\n",
      "469/469 [==============================] - 0s 885us/step - loss: 0.2243 - accuracy: 0.4015\n",
      "Epoch 30/100\n",
      "469/469 [==============================] - 0s 949us/step - loss: 0.2242 - accuracy: 0.4019\n",
      "Epoch 31/100\n",
      "469/469 [==============================] - 0s 994us/step - loss: 0.2239 - accuracy: 0.4032\n",
      "Epoch 32/100\n",
      "469/469 [==============================] - 0s 923us/step - loss: 0.2238 - accuracy: 0.4025\n",
      "Epoch 33/100\n",
      "469/469 [==============================] - 0s 926us/step - loss: 0.2236 - accuracy: 0.4038\n",
      "Epoch 34/100\n",
      "469/469 [==============================] - 0s 912us/step - loss: 0.2235 - accuracy: 0.4027\n",
      "Epoch 35/100\n",
      "469/469 [==============================] - 0s 936us/step - loss: 0.2233 - accuracy: 0.4036\n",
      "Epoch 36/100\n",
      "469/469 [==============================] - 0s 947us/step - loss: 0.2232 - accuracy: 0.4024\n",
      "Epoch 37/100\n",
      "469/469 [==============================] - 0s 886us/step - loss: 0.2230 - accuracy: 0.4060\n",
      "Epoch 38/100\n",
      "469/469 [==============================] - 0s 902us/step - loss: 0.2229 - accuracy: 0.4065\n",
      "Epoch 39/100\n",
      "469/469 [==============================] - 0s 921us/step - loss: 0.2228 - accuracy: 0.4041\n",
      "Epoch 40/100\n",
      "469/469 [==============================] - 0s 904us/step - loss: 0.2227 - accuracy: 0.4052\n",
      "Epoch 41/100\n",
      "469/469 [==============================] - 0s 976us/step - loss: 0.2225 - accuracy: 0.4050\n",
      "Epoch 42/100\n",
      "469/469 [==============================] - 0s 912us/step - loss: 0.2224 - accuracy: 0.4060\n",
      "Epoch 43/100\n",
      "469/469 [==============================] - 0s 886us/step - loss: 0.2223 - accuracy: 0.4057\n",
      "Epoch 44/100\n",
      "469/469 [==============================] - 0s 937us/step - loss: 0.2222 - accuracy: 0.4067\n",
      "Epoch 45/100\n",
      "469/469 [==============================] - 0s 917us/step - loss: 0.2221 - accuracy: 0.4053\n",
      "Epoch 46/100\n",
      "469/469 [==============================] - 0s 929us/step - loss: 0.2221 - accuracy: 0.4065\n",
      "Epoch 47/100\n",
      "469/469 [==============================] - 0s 909us/step - loss: 0.2219 - accuracy: 0.4077\n",
      "Epoch 48/100\n",
      "469/469 [==============================] - 0s 927us/step - loss: 0.2218 - accuracy: 0.4058\n",
      "Epoch 49/100\n",
      "469/469 [==============================] - 0s 913us/step - loss: 0.2218 - accuracy: 0.4065\n",
      "Epoch 50/100\n",
      "469/469 [==============================] - 0s 933us/step - loss: 0.2216 - accuracy: 0.4079\n",
      "Epoch 51/100\n",
      "469/469 [==============================] - 0s 927us/step - loss: 0.2215 - accuracy: 0.4063\n",
      "Epoch 52/100\n",
      "469/469 [==============================] - 0s 1ms/step - loss: 0.2215 - accuracy: 0.4064\n",
      "Epoch 53/100\n",
      "469/469 [==============================] - 0s 870us/step - loss: 0.2214 - accuracy: 0.4080\n",
      "Epoch 54/100\n",
      "469/469 [==============================] - 0s 857us/step - loss: 0.2213 - accuracy: 0.4092\n",
      "Epoch 55/100\n",
      "469/469 [==============================] - 0s 850us/step - loss: 0.2212 - accuracy: 0.4092\n",
      "Epoch 56/100\n",
      "469/469 [==============================] - 0s 949us/step - loss: 0.2210 - accuracy: 0.4084\n",
      "Epoch 57/100\n",
      "469/469 [==============================] - 0s 887us/step - loss: 0.2210 - accuracy: 0.4098\n",
      "Epoch 58/100\n",
      "469/469 [==============================] - 0s 901us/step - loss: 0.2209 - accuracy: 0.4097\n",
      "Epoch 59/100\n",
      "469/469 [==============================] - 0s 881us/step - loss: 0.2208 - accuracy: 0.4086\n",
      "Epoch 60/100\n",
      "469/469 [==============================] - 0s 859us/step - loss: 0.2208 - accuracy: 0.4081\n",
      "Epoch 61/100\n",
      "469/469 [==============================] - 0s 899us/step - loss: 0.2207 - accuracy: 0.4097\n",
      "Epoch 62/100\n",
      "469/469 [==============================] - 0s 897us/step - loss: 0.2206 - accuracy: 0.4109\n",
      "Epoch 63/100\n",
      "469/469 [==============================] - 0s 904us/step - loss: 0.2205 - accuracy: 0.4110\n",
      "Epoch 64/100\n",
      "469/469 [==============================] - 0s 900us/step - loss: 0.2204 - accuracy: 0.4099\n",
      "Epoch 65/100\n",
      "469/469 [==============================] - 0s 900us/step - loss: 0.2204 - accuracy: 0.4113\n",
      "Epoch 66/100\n",
      "469/469 [==============================] - 0s 887us/step - loss: 0.2203 - accuracy: 0.4121\n",
      "Epoch 67/100\n",
      "469/469 [==============================] - 0s 882us/step - loss: 0.2202 - accuracy: 0.4117\n",
      "Epoch 68/100\n",
      "469/469 [==============================] - 0s 869us/step - loss: 0.2201 - accuracy: 0.4117\n",
      "Epoch 69/100\n",
      "469/469 [==============================] - 0s 882us/step - loss: 0.2200 - accuracy: 0.4119\n",
      "Epoch 70/100\n",
      "469/469 [==============================] - 0s 893us/step - loss: 0.2199 - accuracy: 0.4117\n",
      "Epoch 71/100\n",
      "469/469 [==============================] - 0s 915us/step - loss: 0.2199 - accuracy: 0.4121\n",
      "Epoch 72/100\n",
      "469/469 [==============================] - 0s 904us/step - loss: 0.2198 - accuracy: 0.4115\n",
      "Epoch 73/100\n",
      "469/469 [==============================] - 0s 812us/step - loss: 0.2198 - accuracy: 0.4130\n",
      "Epoch 74/100\n",
      "469/469 [==============================] - 0s 889us/step - loss: 0.2196 - accuracy: 0.4121\n",
      "Epoch 75/100\n",
      "469/469 [==============================] - 0s 870us/step - loss: 0.2196 - accuracy: 0.4133\n",
      "Epoch 76/100\n",
      "469/469 [==============================] - 0s 891us/step - loss: 0.2196 - accuracy: 0.4123\n",
      "Epoch 77/100\n",
      "469/469 [==============================] - 0s 887us/step - loss: 0.2195 - accuracy: 0.4129\n",
      "Epoch 78/100\n",
      "469/469 [==============================] - 0s 917us/step - loss: 0.2193 - accuracy: 0.4141\n",
      "Epoch 79/100\n",
      "469/469 [==============================] - 0s 904us/step - loss: 0.2193 - accuracy: 0.4157\n",
      "Epoch 80/100\n",
      "469/469 [==============================] - 0s 887us/step - loss: 0.2192 - accuracy: 0.4145\n",
      "Epoch 81/100\n",
      "469/469 [==============================] - 0s 887us/step - loss: 0.2191 - accuracy: 0.4149\n",
      "Epoch 82/100\n",
      "469/469 [==============================] - 0s 911us/step - loss: 0.2191 - accuracy: 0.4132\n",
      "Epoch 83/100\n",
      "469/469 [==============================] - 0s 907us/step - loss: 0.2190 - accuracy: 0.4152\n",
      "Epoch 84/100\n",
      "469/469 [==============================] - 0s 835us/step - loss: 0.2189 - accuracy: 0.4143\n",
      "Epoch 85/100\n",
      "469/469 [==============================] - 0s 875us/step - loss: 0.2189 - accuracy: 0.4157\n",
      "Epoch 86/100\n",
      "469/469 [==============================] - 0s 906us/step - loss: 0.2188 - accuracy: 0.4166\n",
      "Epoch 87/100\n",
      "469/469 [==============================] - 0s 876us/step - loss: 0.2187 - accuracy: 0.4161\n",
      "Epoch 88/100\n",
      "469/469 [==============================] - 0s 876us/step - loss: 0.2186 - accuracy: 0.4159\n",
      "Epoch 89/100\n",
      "469/469 [==============================] - 0s 886us/step - loss: 0.2185 - accuracy: 0.4158\n",
      "Epoch 90/100\n",
      "469/469 [==============================] - 0s 910us/step - loss: 0.2184 - accuracy: 0.4164\n",
      "Epoch 91/100\n",
      "469/469 [==============================] - 0s 843us/step - loss: 0.2184 - accuracy: 0.4155\n",
      "Epoch 92/100\n",
      "469/469 [==============================] - 0s 912us/step - loss: 0.2184 - accuracy: 0.4178\n",
      "Epoch 93/100\n",
      "469/469 [==============================] - 0s 857us/step - loss: 0.2183 - accuracy: 0.4157\n",
      "Epoch 94/100\n",
      "469/469 [==============================] - 0s 895us/step - loss: 0.2181 - accuracy: 0.4174\n",
      "Epoch 95/100\n",
      "469/469 [==============================] - 0s 893us/step - loss: 0.2181 - accuracy: 0.4169\n",
      "Epoch 96/100\n",
      "469/469 [==============================] - 0s 911us/step - loss: 0.2180 - accuracy: 0.4179\n",
      "Epoch 97/100\n",
      "469/469 [==============================] - 0s 888us/step - loss: 0.2179 - accuracy: 0.4175\n",
      "Epoch 98/100\n",
      "469/469 [==============================] - 0s 896us/step - loss: 0.2179 - accuracy: 0.4179\n",
      "Epoch 99/100\n",
      "469/469 [==============================] - 0s 927us/step - loss: 0.2178 - accuracy: 0.4177\n",
      "Epoch 100/100\n",
      "469/469 [==============================] - 0s 893us/step - loss: 0.2177 - accuracy: 0.4177\n"
     ]
    },
    {
     "data": {
      "text/plain": [
       "<keras.callbacks.History at 0x21b0d5156a0>"
      ]
     },
     "execution_count": 26,
     "metadata": {},
     "output_type": "execute_result"
    }
   ],
   "source": [
    "model.fit(x_train, y_train, epochs=100)"
   ]
  },
  {
   "cell_type": "code",
   "execution_count": 27,
   "metadata": {},
   "outputs": [
    {
     "name": "stdout",
     "output_type": "stream",
     "text": [
      "118/118 [==============================] - 0s 675us/step - loss: 0.2213 - accuracy: 0.4064\n"
     ]
    },
    {
     "data": {
      "text/plain": [
       "[0.22126512229442596, 0.40639999508857727]"
      ]
     },
     "execution_count": 27,
     "metadata": {},
     "output_type": "execute_result"
    }
   ],
   "source": [
    "model.evaluate(x_test, y_test)"
   ]
  }
 ],
 "metadata": {
  "interpreter": {
   "hash": "ffbfc792e496a15b6b750fac43e7a9afdc7c26545a7abda9dc172ad3cb978227"
  },
  "kernelspec": {
   "display_name": "Python 3.8.3 64-bit (system)",
   "language": "python",
   "name": "python3"
  },
  "language_info": {
   "codemirror_mode": {
    "name": "ipython",
    "version": 3
   },
   "file_extension": ".py",
   "mimetype": "text/x-python",
   "name": "python",
   "nbconvert_exporter": "python",
   "pygments_lexer": "ipython3",
   "version": "3.8.3"
  },
  "orig_nbformat": 4
 },
 "nbformat": 4,
 "nbformat_minor": 2
}
